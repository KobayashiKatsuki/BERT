{
 "cells": [
  {
   "cell_type": "code",
   "execution_count": 1,
   "id": "14e90f04",
   "metadata": {},
   "outputs": [],
   "source": [
    "\"\"\"\n",
    "LivedoorニュースコーパスをTSVファイルへ変換する\n",
    "\"\"\"\n",
    "from tqdm import tqdm\n",
    "import glob"
   ]
  },
  {
   "cell_type": "code",
   "execution_count": 2,
   "id": "0dc84e97",
   "metadata": {},
   "outputs": [],
   "source": [
    "category_list = [\n",
    "    \"dokujo-tsushin\",\n",
    "    \"it-life-hack\",\n",
    "    \"kaden-channel\",\n",
    "    \"livedoor-homme\",\n",
    "    \"movie-enter\",\n",
    "    \"peachy\",\n",
    "    \"smax\",\n",
    "    \"sports-watch\",\n",
    "    \"topic-news\",\n",
    "]"
   ]
  },
  {
   "cell_type": "code",
   "execution_count": 3,
   "id": "1218002a",
   "metadata": {},
   "outputs": [
    {
     "name": "stderr",
     "output_type": "stream",
     "text": [
      "100%|████████████████████████████████████████████████████████████████████████████████████| 9/9 [00:01<00:00,  7.55it/s]\n"
     ]
    }
   ],
   "source": [
    "ldcc_dataset = \"./reshaped/ldcc_dataset.tsv\"\n",
    "\n",
    "with open(ldcc_dataset, 'w', encoding='utf-8') as f:\n",
    "    for label, category in enumerate(tqdm(category_list)):\n",
    "        for file in glob.glob(f\"./text/{category}/{category}*\"):\n",
    "            # １行ずつ読み出し、４行目以降を抽出\n",
    "            lines = open(file, encoding='utf-8').read().splitlines()\n",
    "            text = \"\".join(lines[3:])#4行目以降\n",
    "            text = text.replace(\"\\t\", \"\") #tsvで出力するので余分なタブは消す\n",
    "            f.write(f\"{text}\\t{label}\\n\")\n",
    "f.close()        "
   ]
  },
  {
   "cell_type": "code",
   "execution_count": 4,
   "id": "f969c679",
   "metadata": {},
   "outputs": [],
   "source": [
    "\"\"\"\n",
    "Train, Valid, Testに分割する\n",
    "\"\"\"\n",
    "import pandas as pd\n",
    "from sklearn.model_selection import train_test_split"
   ]
  },
  {
   "cell_type": "code",
   "execution_count": 8,
   "id": "a844f1c3",
   "metadata": {},
   "outputs": [],
   "source": [
    "df_dataset = pd.read_csv(\"./reshaped/ldcc_dataset.tsv\", sep=\"\\t\", header=None)\n",
    "df_train, df_valid = train_test_split(df_dataset, test_size=0.2)\n",
    "df_valid, df_test = train_test_split(df_valid, test_size=0.5)\n",
    "\n",
    "df_train.to_csv(\"./reshaped/train.tsv\", sep=\"\\t\", header=None, index=False)\n",
    "df_valid.to_csv(\"./reshaped/valid.tsv\", sep=\"\\t\", header=None, index=False)\n",
    "df_test.to_csv(\"./reshaped/test.tsv\", sep=\"\\t\", header=None, index=False)"
   ]
  },
  {
   "cell_type": "code",
   "execution_count": null,
   "id": "947d7a72",
   "metadata": {},
   "outputs": [],
   "source": []
  }
 ],
 "metadata": {
  "kernelspec": {
   "display_name": "Python 3 (ipykernel)",
   "language": "python",
   "name": "python3"
  },
  "language_info": {
   "codemirror_mode": {
    "name": "ipython",
    "version": 3
   },
   "file_extension": ".py",
   "mimetype": "text/x-python",
   "name": "python",
   "nbconvert_exporter": "python",
   "pygments_lexer": "ipython3",
   "version": "3.9.7"
  }
 },
 "nbformat": 4,
 "nbformat_minor": 5
}
